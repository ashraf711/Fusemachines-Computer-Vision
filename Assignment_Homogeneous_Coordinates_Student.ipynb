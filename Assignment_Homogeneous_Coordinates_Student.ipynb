{
 "cells": [
  {
   "cell_type": "markdown",
   "metadata": {
    "deletable": false,
    "editable": false,
    "id": "bocltlTr_jvs",
    "nbgrader": {
     "cell_type": "markdown",
     "checksum": "6dbfd2c657948e17def2f762cbdcaa01",
     "grade": false,
     "grade_id": "cell-3c5ca544ad1a793f",
     "locked": true,
     "schema_version": 3,
     "solution": false
    }
   },
   "source": [
    "# **Assignment--Homogeneous Coordinates**\n",
    "\n",
    "## **[Points: 30]**\n"
   ]
  },
  {
   "cell_type": "markdown",
   "metadata": {
    "deletable": false,
    "editable": false,
    "id": "n_JczJ48_jvt",
    "nbgrader": {
     "cell_type": "markdown",
     "checksum": "266029082ddfbcc7a17305005b566809",
     "grade": false,
     "grade_id": "cell-ea331d4c99a4f75b",
     "locked": true,
     "schema_version": 3,
     "solution": false
    }
   },
   "source": [
    "Welcome to the first assignment of this moudule, __Image Formation and Representation__. Through this assignment you will be able to implement the pointconversion(i.e., cartesian coordinate system to homogeneous coordinate system) and geometric transformation like rotation, scaling and translation using Numpy. Furthermore, you will be able to recognize the advantages of the homogeneous system in performing composite transformation.\n"
   ]
  },
  {
   "cell_type": "markdown",
   "metadata": {
    "deletable": false,
    "editable": false,
    "id": "8WSUgrqK_jvv",
    "nbgrader": {
     "cell_type": "markdown",
     "checksum": "aba958e1890ad5cd791b214f300a4bf4",
     "grade": false,
     "grade_id": "cell-d1cdc942c1f5a379",
     "locked": true,
     "schema_version": 3,
     "solution": false
    }
   },
   "source": [
    "## **Outline**\n",
    "\n",
    "* [Overview](#overview)\n",
    "* [Point Conversion](#point_conversion)\n",
    "    * [Exercise 1](#exercise-1) \n",
    "        * [Task 1](#exercise-1-task-1)\n",
    "        * [Task 2](#exercise-1-task-2)\n",
    "* [Rotation](#rotation)\n",
    "    * [Exercise 2](#exercise-2)\n",
    "        * [Task 1](#exercise-2-task-1)\n",
    "        * [Task 2](#exercise-2-task-2)\n",
    "* [Scaling](#scaling)\n",
    "    * [Exercise 3](#exercise-3)\n",
    "        * [Task 1](#exercise-3-task-1)\n",
    "        * [Task 2](#exercise-3-task-2)\n",
    "* [Translation](#translation)\n",
    "    * [Exercise 4](#exercise-4)\n",
    "        * [Task 1](#exercise-4-task-1)\n",
    "        * [Task 2](#exercise-4-task-2)\n",
    "* [Composite Transformation](#composite_transformation)\n",
    "    * [Exercise 5](#exercise-5)"
   ]
  },
  {
   "cell_type": "markdown",
   "metadata": {
    "deletable": false,
    "editable": false,
    "id": "kDxYfhgb_jvw",
    "nbgrader": {
     "cell_type": "markdown",
     "checksum": "551f8993855ea8d3b19dfe4f892c62f4",
     "grade": false,
     "grade_id": "cell-29d9fdb97e51f09b",
     "locked": true,
     "schema_version": 3,
     "solution": false
    }
   },
   "source": [
    "## **Overview** <a name='overview'></a>\n"
   ]
  },
  {
   "cell_type": "markdown",
   "metadata": {
    "deletable": false,
    "editable": false,
    "id": "nqm3uPul_jvx",
    "nbgrader": {
     "cell_type": "markdown",
     "checksum": "7606ae9d942c4000f93a6d53fd4466e9",
     "grade": false,
     "grade_id": "cell-cd98514156c1bab7",
     "locked": true,
     "schema_version": 3,
     "solution": false
    }
   },
   "source": [
    "Homogeneous coordinates are the coordinates system totally different from the normal coordinate system. In here, you can represent the 2D with 3D homogeneous coordinates, and 3D with 4D homogeneous coordinates. Here, it simply add another component to original coorinate system.\n",
    "\n",
    "Suppose, your cartesian 2D point is $(x,y)$. This cartesian 2D point you can represent into 3D homogeneous form by introducing a third component to it Z. That is, now you can represent $(x,y)$ with $(xZ, yZ, Z)$.\n",
    "\n",
    "This homogeneous coordinate system are good as it provides a lot advantages to you like handling of points at infinity, making formulas simpler, making complex transformation processes simpler and so on. It has a range of applications, including computer gaphics and 3D computer vision, where they allow affine transformatons, and projective transformations to be easily represented by a matrix.\n",
    "\n",
    "Here, you will implement geometric transforamtions like `Rotation`, `Scaling` and `Translation` using homogeneous matrix and also composite transfomation using the above geometric trnasformations, as a part of this assignment. \n",
    "\n",
    "\n"
   ]
  },
  {
   "cell_type": "markdown",
   "metadata": {
    "deletable": false,
    "editable": false,
    "id": "M6zwEWEp_jvy",
    "nbgrader": {
     "cell_type": "markdown",
     "checksum": "36be97dde3436fba91f8b87184ba8fa7",
     "grade": false,
     "grade_id": "cell-a7763b4d8d0f867e",
     "locked": true,
     "schema_version": 3,
     "solution": false
    }
   },
   "source": [
    "## **Point Conversion** <a name='point_conversion'></a>\n",
    "\n",
    "The first excercise is the point conversion where you will perform simple conversion of cartesian coordinates to homogeneous ones and vice-versa. \n",
    "\n",
    "\n"
   ]
  },
  {
   "cell_type": "code",
   "execution_count": 1,
   "metadata": {
    "deletable": false,
    "editable": false,
    "id": "3_CE5gG-_jvz",
    "nbgrader": {
     "cell_type": "code",
     "checksum": "aa7a7e38965507096e6f060f507a6f46",
     "grade": false,
     "grade_id": "cell-a05f973f23fa2a7d",
     "locked": true,
     "schema_version": 3,
     "solution": false
    }
   },
   "outputs": [],
   "source": [
    "import numpy as np\n",
    "import matplotlib.pyplot as plt\n",
    "from shapely.geometry.polygon import Polygon\n",
    "from descartes import PolygonPatch"
   ]
  },
  {
   "cell_type": "markdown",
   "metadata": {
    "deletable": false,
    "editable": false,
    "id": "nAOJKCiE_jv4",
    "nbgrader": {
     "cell_type": "markdown",
     "checksum": "04af591f6daf0c38c2a1f6027f5a54a5",
     "grade": false,
     "grade_id": "cell-e22b8628becd6fdf",
     "locked": true,
     "schema_version": 3,
     "solution": false
    }
   },
   "source": [
    "### **Exercise  1**<a name=\"exercise-1\"></a>\n",
    "\n",
    "### **[Points: 5]**\n",
    "\n",
    "In the homogeneous function, you just add another term, $w$, to the orginal co-ordinate system, $(x,y)$, as shown in the examples below.\n",
    "\n",
    "$$\n",
    "(x,y) ---> (x,y,1)\\\\\n",
    "(x/w, y/w) ---> (x,y,w)\n",
    "$$\n",
    "\n",
    "Now, you need to create a function for the conversion of homogeneous coordinates to cartesian form and cartesian form to homogeneous ones."
   ]
  },
  {
   "cell_type": "markdown",
   "metadata": {
    "deletable": false,
    "editable": false,
    "id": "GY4qb8SU_jv5",
    "nbgrader": {
     "cell_type": "markdown",
     "checksum": "1c3184dbae82f06a4614d8e53862f226",
     "grade": false,
     "grade_id": "cell-59f2b68bc54585fe",
     "locked": true,
     "schema_version": 3,
     "solution": false
    }
   },
   "source": [
    "#### **Task 1:** <a name=\"exercise-1-task-1\"></a>\n",
    "\n",
    "#### **[Points: 2]**\n",
    "\n",
    "Create function `cartesian_to_homogenous()`. Here, you need to just add extra element to original coordinate system.\n",
    "\n",
    "Hint: \n",
    "\n",
    "(5,5) is cartesian, homogeneous coordinates will be (5,5,1)."
   ]
  },
  {
   "cell_type": "code",
   "execution_count": 2,
   "metadata": {
    "deletable": false,
    "id": "Cgj8U8Pr_jv6",
    "nbgrader": {
     "cell_type": "code",
     "checksum": "f461a20da8b71e39f9dc87f3c20ed612",
     "grade": false,
     "grade_id": "cell-845dfe8ecf0f7725",
     "locked": false,
     "schema_version": 3,
     "solution": true
    },
    "tags": [
     "Ex-1-Task-1"
    ]
   },
   "outputs": [],
   "source": [
    "### Ex-1-Task-1\n",
    "def cartesian_to_homogeneous(coordinates):\n",
    "    \n",
    "    '''\n",
    "    This function converts the cartesian coordinates to homogeneous form.\n",
    "    \n",
    "    Parameters\n",
    "    ----------\n",
    "    coordinates: list, can be 2D, 3D coordinates\n",
    "    \n",
    "    return\n",
    "    ------\n",
    "    homogeneous_coords: nd-array of homogeneous coordinates\n",
    "    '''\n",
    "    # homogeneous coordinates (convert cartesian coordinate)\n",
    "    homogeneous_coords = None\n",
    "    \n",
    "    # Exercise 1 / Task 1\n",
    "    ### BEGIN SOLUTION\n",
    "   \n",
    "    ones = np.ones((coordinates.shape[0], 1), dtype=int)\n",
    "\n",
    "   \n",
    "    homogeneous_coords = np.hstack((coordinates, ones))\n",
    "    ### END SOLUTION\n",
    "    \n",
    "    return homogeneous_coords \n",
    "\n"
   ]
  },
  {
   "cell_type": "code",
   "execution_count": 4,
   "metadata": {
    "deletable": false,
    "editable": false,
    "id": "46XWkFJL_jv-",
    "nbgrader": {
     "cell_type": "code",
     "checksum": "c6ae4ba3216ce985c705c9cb83a4e369",
     "grade": true,
     "grade_id": "cell-cafa21d529e485f7",
     "locked": true,
     "points": 2,
     "schema_version": 3,
     "solution": false
    },
    "tags": [
     "Ex-1-Task-1"
    ]
   },
   "outputs": [],
   "source": [
    "### INTENTIONALLY LEFT BLANK ###"
   ]
  },
  {
   "cell_type": "markdown",
   "metadata": {
    "deletable": false,
    "editable": false,
    "id": "HCwHQ9oi_jwC",
    "nbgrader": {
     "cell_type": "markdown",
     "checksum": "78f58fad7423be91b0b497e8bdc308b1",
     "grade": false,
     "grade_id": "cell-96deff77338af214",
     "locked": true,
     "schema_version": 3,
     "solution": false
    }
   },
   "source": [
    "#### **Task 2:** <a name=\"exercise-1-task-2\"></a>\n",
    "\n",
    "#### **[Points: 3]**\n",
    "\n",
    "Create function `homogeneous_to_cartesian()`. Here, you need to just remove the extra element from the given homogeneous coordinate system.\n",
    "\n",
    "Hint: \n",
    "\n",
    "(10, 10, 2) is homogenous coordinates, cartesian coordinates will be (5,5).\n"
   ]
  },
  {
   "cell_type": "code",
   "execution_count": 5,
   "metadata": {
    "deletable": false,
    "id": "5EyKWsU__jwD",
    "nbgrader": {
     "cell_type": "code",
     "checksum": "3d7e1834aabde92ca5d055feea2a16b1",
     "grade": false,
     "grade_id": "cell-80739d4ceedeb6da",
     "locked": false,
     "schema_version": 3,
     "solution": true
    },
    "tags": [
     "Ex-1-Task-2"
    ]
   },
   "outputs": [],
   "source": [
    "### Ex-1-Task-2\n",
    "def homogeneous_to_cartesian(coordinates):\n",
    "    '''\n",
    "    This function converts the homogeneous coordinates to cartesian form.\n",
    "    \n",
    "    Parameters\n",
    "    ----------\n",
    "    coordinates: list, can be 3D, 4D homogeneous coordinates\n",
    "    \n",
    "    return\n",
    "    ------\n",
    "    cartesian_coords: nd-array of cartesian coordinates\n",
    "    '''\n",
    "    \n",
    "    # cartesian coordinates obtained by converting removing the third element from homogenous coordinates\n",
    "    cartesian_coords = None\n",
    "    \n",
    "    # Exercise 1 / Task 2\n",
    "    ### BEGIN SOLUTION\n",
    "    \n",
    "        \n",
    "    coords = np.array(coordinates)\n",
    "\n",
    "    \n",
    "    last_column = coords[:, -1].reshape(-1, 1)\n",
    "\n",
    "    \n",
    "    cartesian_coords = coords[:, :-1] / last_column\n",
    "    ### END SOLUTION\n",
    "    \n",
    "    return cartesian_coords\n",
    "    "
   ]
  },
  {
   "cell_type": "code",
   "execution_count": 6,
   "metadata": {
    "deletable": false,
    "editable": false,
    "id": "wJk6hzcU_jwG",
    "nbgrader": {
     "cell_type": "code",
     "checksum": "7874775f1446913b23f79979a450b392",
     "grade": true,
     "grade_id": "cell-9518a264387f0b73",
     "locked": true,
     "points": 3,
     "schema_version": 3,
     "solution": false
    },
    "tags": [
     "Ex-1-Task-2"
    ]
   },
   "outputs": [],
   "source": [
    "### INTENTIONALLY LEFT BLANK ###"
   ]
  },
  {
   "cell_type": "markdown",
   "metadata": {
    "deletable": false,
    "editable": false,
    "id": "dkpYb1o9_jwK",
    "nbgrader": {
     "cell_type": "markdown",
     "checksum": "fd1bc7104a59896e399ed8dfc8a20363",
     "grade": false,
     "grade_id": "cell-6c6210eb95217b5e",
     "locked": true,
     "schema_version": 3,
     "solution": false
    }
   },
   "source": [
    "## **Rotation** <a name=\"rotation\"></a>\n",
    "\n",
    "Rotation means turning an object around a certain fixed point, called the center of rotation(COR). In rotation, you rotate or turn an object with certain angle, called the angle of rotation(AOR), $\\theta$. \n",
    "\n",
    "In rotation, if angle of rotation is positive, it is called anticlockwise rotation, and if the angle of rotation is negative, it is called clockwise rotation. \n"
   ]
  },
  {
   "cell_type": "markdown",
   "metadata": {
    "deletable": false,
    "editable": false,
    "id": "xWq0I1-G_jwM",
    "nbgrader": {
     "cell_type": "markdown",
     "checksum": "c1ba88c402d1a00901789897aa088d91",
     "grade": false,
     "grade_id": "cell-f1ae81c6df2ab1d4",
     "locked": true,
     "schema_version": 3,
     "solution": false
    }
   },
   "source": [
    "### **Exercise  2**<a name=\"exercise-2\"></a>\n",
    "\n",
    "### **[Points: 10]**\n",
    "\n",
    "Here, you create function to rotate the different 2D shapes(like trianlge, square)."
   ]
  },
  {
   "cell_type": "markdown",
   "metadata": {
    "deletable": false,
    "editable": false,
    "id": "_z7sAjOa_jwN",
    "nbgrader": {
     "cell_type": "markdown",
     "checksum": "ad29e1decf1a9c60a36389a5fc453f2d",
     "grade": false,
     "grade_id": "cell-f30ce6d5ab326850",
     "locked": true,
     "schema_version": 3,
     "solution": false
    }
   },
   "source": [
    "#### **Task 1:** <a name=\"exercise-2-task-1\"></a>\n",
    "\n",
    "#### **[Points: 5]**\n",
    "\n",
    "In this task, you create a function to calculate the rotation matrix. \n",
    "\n",
    "___Hint:___\n",
    "\n",
    "   * Use [np.deg2rad()](https://numpy.org/doc/stable/reference/generated/numpy.deg2rad.html) or [np.radians()](https://numpy.org/doc/stable/reference/generated/numpy.radians.html) to convert angle from degree to radians.\n",
    "   \n",
    "   * Convert the following 2D rotation matrices into homogeneous form:\n",
    "\n",
    "   Anticlockwise Rotation matrix:\n",
    "$$ \n",
    "\\begin{bmatrix}\n",
    "cos\\theta & -sin\\theta\n",
    " \\\\\n",
    "sin\\theta & cos\\theta\n",
    "\\end{bmatrix}\n",
    "{-------->}^{Homogeneous form}\n",
    "\\begin{bmatrix}\n",
    "cos\\theta & -sin\\theta & 0\n",
    " \\\\\n",
    "sin\\theta & cos\\theta & 0\n",
    "\\\\ 0 & 0 & 1\n",
    "\\end{bmatrix}\n",
    "$$\n",
    "Clockwise Rotation  matrix:\n",
    "$$ \n",
    "\\begin{bmatrix}\n",
    "cos\\theta & sin\\theta\n",
    " \\\\\n",
    "-sin\\theta & cos\\theta\n",
    "\\end{bmatrix}\n",
    "{-------->}^{Homogeneous form}\n",
    "\\begin{bmatrix}\n",
    "cos\\theta & -sin\\theta & 0\n",
    " \\\\\n",
    "sin\\theta & cos\\theta & 0\n",
    "\\\\ 0 & 0 & 1\n",
    "\\end{bmatrix}\n",
    "$$\n",
    "\n",
    "`NOTE: np.cos(np.radians(90)) !=0 or np.cos(np.deg2rad(90)) !=0(Use some logic for this case)`\n"
   ]
  },
  {
   "cell_type": "code",
   "execution_count": 7,
   "metadata": {
    "deletable": false,
    "id": "iv-jK6JZ_jwO",
    "nbgrader": {
     "cell_type": "code",
     "checksum": "417c27eb5ef5509a4f813514a8fb90ee",
     "grade": false,
     "grade_id": "cell-73dc2e7f77f0036c",
     "locked": false,
     "schema_version": 3,
     "solution": true
    },
    "tags": [
     "Ex-2-Task-1"
    ]
   },
   "outputs": [],
   "source": [
    "### Ex-2-Task-1\n",
    "def get_rotation_matrix(angle):\n",
    "    \n",
    "    '''\n",
    "    This function provides you the rotation matrix either for clockwise or anticlockwise rotation.\n",
    "    \n",
    "    Parameters\n",
    "    ----------\n",
    "        angle: angle of rotation in degree\n",
    "    \n",
    "    return\n",
    "    ------\n",
    "        rotation_matrix : numpy array\n",
    "    '''\n",
    "    \n",
    "    # homogeneous rotation matrix \n",
    "    rotation_matrix = None\n",
    "    \n",
    "    # Exercise 2 / Task 1\n",
    "    ### BEGIN SOLUTION\n",
    "    # your code here\n",
    "    \n",
    "    theta = np.radians(angle)\n",
    "    \n",
    "    \n",
    "    cos_theta = np.cos(theta)\n",
    "    sin_theta = np.sin(theta)\n",
    "    \n",
    "    \n",
    "    if cos_theta != 0:\n",
    "        rotation_matrix = np.array([[cos_theta, -sin_theta, 0],\n",
    "                                    [sin_theta, cos_theta, 0],\n",
    "                                    [0, 0, 1]])\n",
    "    else:\n",
    "        rotation_matrix = np.array([[1, 0, 0],\n",
    "                                    [0, 1, 0],\n",
    "                                    [0, 0, 1]])\n",
    "    ### END SOLUTION\n",
    "    \n",
    "    return rotation_matrix\n",
    "\n",
    "\n",
    "    "
   ]
  },
  {
   "cell_type": "code",
   "execution_count": 8,
   "metadata": {
    "deletable": false,
    "editable": false,
    "id": "u66-ddhJ_jwS",
    "nbgrader": {
     "cell_type": "code",
     "checksum": "a99f3906fdafc6891db800ffc3a12882",
     "grade": true,
     "grade_id": "cell-91c16f46434e2fb3",
     "locked": true,
     "points": 5,
     "schema_version": 3,
     "solution": false
    },
    "tags": [
     "Ex-2-Task-1"
    ]
   },
   "outputs": [],
   "source": [
    "### INTENTIONALLY LEFT BLANK ###"
   ]
  },
  {
   "cell_type": "markdown",
   "metadata": {
    "deletable": false,
    "editable": false,
    "id": "4qxWnpEq_jwV",
    "nbgrader": {
     "cell_type": "markdown",
     "checksum": "d5c2c3ae1cf68cfc675b8aae9493973e",
     "grade": false,
     "grade_id": "cell-9ae11b5d8e5b6a7c",
     "locked": true,
     "schema_version": 3,
     "solution": false
    }
   },
   "source": [
    "#### **Task 2:** <a name=\"exercise-2-task-2\"></a>\n",
    "\n",
    "#### **[Points: 5]**\n",
    "\n",
    "In this task, you create a function to perform the action of rotation. \n",
    "\n",
    "***Step 1:***  Convert the given coordinates points to homogeneous coordinate system\n",
    "\n",
    "   * Use `np.array()`, `np.asarray()` for converting list into numpy array\n",
    "   * Substract given coordinates point from centre of rotation\n",
    "   * Use `cartesian_to_homogeneous()`, to convert given points ot homogeneous form \n",
    "   * Use list comprehension to simplify your steps or can perform multiple logical operations\n",
    "       \n",
    "***Step 2:*** Calculate the rotation matric\n",
    "    \n",
    "   * Use `get_rotation_matrix()`, for calculation of the rotation matrix\n",
    "   * Use the center of rotation as origin\n",
    "\n",
    "***Step 3:*** Calculate the rotated points\n",
    "\n",
    "   * Use `np.matmul()`, to multiply homogeneous_points and rotating_matrix for calculating the rotated points\n",
    "   \n",
    "***Step 4:*** Convert homogeneous rotated points to cartesian form\n",
    "\n",
    "   * Use `homogeneous_to_cartesian()`\n"
   ]
  },
  {
   "cell_type": "code",
   "execution_count": 9,
   "metadata": {
    "deletable": false,
    "id": "S6yGuz5p_jwW",
    "nbgrader": {
     "cell_type": "code",
     "checksum": "d6166cbdaa65cbec072a38287d674d8d",
     "grade": false,
     "grade_id": "cell-fbfacd4bfd86c799",
     "locked": false,
     "schema_version": 3,
     "solution": true
    },
    "tags": [
     "Ex-2-Task-2"
    ]
   },
   "outputs": [],
   "source": [
    "### Ex-2-Task-2\n",
    "\n",
    "def rotation(points, angle, COR = [0,0], homogeneous=False):\n",
    "        '''\n",
    "            This function performs rotation and returns the rotated points.\n",
    "        \n",
    "            Parameters\n",
    "            -----------\n",
    "                points: list of x and y cooridnates that needs to be rotated\n",
    "                angle: rotating angle\n",
    "                COR: list of x and y coordinates representing the center of rotation \n",
    "        \n",
    "            return\n",
    "            ------\n",
    "                rotated_points: numpy array of rotated points(homogeneous form)\n",
    "                cart_rotated_points: numpy array of rotated points(cartesian form)\n",
    "        '''\n",
    "        # STEP 1: convert the given points to homogenous form(in numpy array)\n",
    "        homogenous_points = None\n",
    "        \n",
    "        # STEP 2: get rotation matrix\n",
    "        rotation_matrix = None\n",
    "        \n",
    "        # STEP 3: get rotated points by multiplying homogeneous points with rotation matrix\n",
    "        rotated_points = None\n",
    "        \n",
    "        # STEP 4: converting the homogeneous coordinates back to cartesian\n",
    "        cart_rotated_points = None\n",
    "        \n",
    "        # Exercise 2 / Task 2\n",
    "        ### BEGIN SOLUTION\n",
    "        # your code here\n",
    "        point = np.asarray(points)\n",
    "        shifted_points = np.subtract(point,COR)\n",
    "        homogenous_points = cartesian_to_homogeneous(shifted_points)\n",
    "        rotation_matrix = get_rotation_matrix(angle)\n",
    "        rotated_points= np.matmul(rotation_matrix,homogenous_points.T).T\n",
    "        cart_rotated_points = homogeneous_to_cartesian(rotated_points)\n",
    "        \n",
    "        ### END SOLUTION\n",
    "        \n",
    "        return rotated_points, cart_rotated_points"
   ]
  },
  {
   "cell_type": "code",
   "execution_count": 10,
   "metadata": {
    "deletable": false,
    "editable": false,
    "id": "q-tCKYLc_jwZ",
    "nbgrader": {
     "cell_type": "code",
     "checksum": "354fe358c51d75a368230f05b6f752a8",
     "grade": true,
     "grade_id": "cell-c9ee61e944a293e5",
     "locked": true,
     "points": 5,
     "schema_version": 3,
     "solution": false
    },
    "tags": [
     "Ex-2-Task-2"
    ]
   },
   "outputs": [],
   "source": [
    "### INTENTIONALLY LEFT BLANK ###"
   ]
  },
  {
   "cell_type": "markdown",
   "metadata": {
    "deletable": false,
    "editable": false,
    "id": "8tf6xU_6_jwe",
    "nbgrader": {
     "cell_type": "markdown",
     "checksum": "fafd927e11df7f9373d6d4f86bb3150f",
     "grade": false,
     "grade_id": "cell-6c40e13a2a946c4a",
     "locked": true,
     "schema_version": 3,
     "solution": false
    }
   },
   "source": [
    "Now, let use above codes to rotate a rectangle `ABCD` with coordinates A(3, 5), B(3,10), C(8,10), D(8, 5)."
   ]
  },
  {
   "cell_type": "code",
   "execution_count": 11,
   "metadata": {
    "deletable": false,
    "editable": false,
    "id": "e0EucRo5_jwf",
    "nbgrader": {
     "cell_type": "code",
     "checksum": "492af845fdd14d5c9aaecc0bc01d7f57",
     "grade": false,
     "grade_id": "cell-fdd9c937aa59f180",
     "locked": true,
     "schema_version": 3,
     "solution": false
    }
   },
   "outputs": [
    {
     "data": {
      "text/plain": [
       "[[3, 5], [3, 10], [8, 10], [8, 5]]"
      ]
     },
     "execution_count": 11,
     "metadata": {},
     "output_type": "execute_result"
    }
   ],
   "source": [
    "rectangle = [[3,5], [3,10], [8,10], [8,5]] # rectangle coordinates\n",
    "rectangle\n"
   ]
  },
  {
   "cell_type": "code",
   "execution_count": 12,
   "metadata": {
    "deletable": false,
    "editable": false,
    "id": "zaNUK7Rr_jwl",
    "nbgrader": {
     "cell_type": "code",
     "checksum": "1af8e2929256e51f377aac199bdc815c",
     "grade": false,
     "grade_id": "cell-a537e12160189ffa",
     "locked": true,
     "schema_version": 3,
     "solution": false
    }
   },
   "outputs": [],
   "source": [
    "angle = 45 # angle of rotation"
   ]
  },
  {
   "cell_type": "code",
   "execution_count": 13,
   "metadata": {
    "deletable": false,
    "editable": false,
    "id": "2fKJtdC1_jwp",
    "nbgrader": {
     "cell_type": "code",
     "checksum": "802aa9cfb33748a4b2e9f479bf1d5df4",
     "grade": false,
     "grade_id": "cell-c9d8e4ca26cd2b1b",
     "locked": true,
     "schema_version": 3,
     "solution": false
    }
   },
   "outputs": [],
   "source": [
    "COR = [0,0] # centre of rotation\n"
   ]
  },
  {
   "cell_type": "code",
   "execution_count": 14,
   "metadata": {
    "deletable": false,
    "editable": false,
    "id": "PKpcIrZz_jws",
    "nbgrader": {
     "cell_type": "code",
     "checksum": "d60c34d12aaa0e0edf228d6a3595cd29",
     "grade": false,
     "grade_id": "cell-f4ee475a1d4f6336",
     "locked": true,
     "schema_version": 3,
     "solution": false
    }
   },
   "outputs": [
    {
     "name": "stderr",
     "output_type": "stream",
     "text": [
      "/opt/anaconda3/envs/cv/lib/python3.9/site-packages/descartes/patch.py:63: ShapelyDeprecationWarning: The array interface is deprecated and will no longer work in Shapely 2.0. Convert the '.coords' to a numpy array instead.\n",
      "  concatenate([asarray(t.exterior)[:, :2]] +\n"
     ]
    },
    {
     "data": {
      "image/png": "[encoded data removed]",
      "text/plain": [
       "<Figure size 450x450 with 1 Axes>"
      ]
     },
     "metadata": {
      "needs_background": "light"
     },
     "output_type": "display_data"
    }
   ],
   "source": [
    "# plotting the rectangle coordinates\n",
    "\n",
    "fig = plt.figure(1, figsize=(5,5), dpi=90) \n",
    "rectangle_shape = Polygon(rectangle)\n",
    "ax = fig.add_subplot(111)\n",
    "rectangle_shape = PolygonPatch(rectangle_shape)\n",
    "ax.add_patch(rectangle_shape)\n",
    "ax.set_xlim([0, 12])\n",
    "ax.set_ylim([0,12])\n",
    "ax.set_aspect(1)\n",
    "plt.grid()\n",
    "plt.show()"
   ]
  },
  {
   "cell_type": "code",
   "execution_count": 15,
   "metadata": {
    "deletable": false,
    "editable": false,
    "id": "hdB5WfQp_jwx",
    "nbgrader": {
     "cell_type": "code",
     "checksum": "5bb226f2108d75ad906224eccdbf4825",
     "grade": false,
     "grade_id": "cell-3143b24024b2e4aa",
     "locked": true,
     "schema_version": 3,
     "solution": false
    }
   },
   "outputs": [
    {
     "name": "stdout",
     "output_type": "stream",
     "text": [
      "[[-1.41421356  5.65685425  1.        ]\n",
      " [-4.94974747  9.19238816  1.        ]\n",
      " [-1.41421356 12.72792206  1.        ]\n",
      " [ 2.12132034  9.19238816  1.        ]]\n"
     ]
    },
    {
     "data": {
      "text/plain": [
       "array([[-1.41421356,  5.65685425],\n",
       "       [-4.94974747,  9.19238816],\n",
       "       [-1.41421356, 12.72792206],\n",
       "       [ 2.12132034,  9.19238816]])"
      ]
     },
     "execution_count": 15,
     "metadata": {},
     "output_type": "execute_result"
    }
   ],
   "source": [
    "# rotation at an angle 45 degree in anticlockwise direction about origin\n",
    "homo_rotated_points, rotated_points = rotation(rectangle, angle, COR)\n",
    "print(homo_rotated_points)\n",
    "rotated_points"
   ]
  },
  {
   "cell_type": "code",
   "execution_count": 16,
   "metadata": {
    "deletable": false,
    "editable": false,
    "id": "QKKIEx73_jw0",
    "nbgrader": {
     "cell_type": "code",
     "checksum": "02bb4d4e9459bd2716de0bf9967e788e",
     "grade": false,
     "grade_id": "cell-72016a9195c20c96",
     "locked": true,
     "schema_version": 3,
     "solution": false
    }
   },
   "outputs": [
    {
     "data": {
      "image/png": "[encoded data removed]",
      "text/plain": [
       "<Figure size 450x450 with 1 Axes>"
      ]
     },
     "metadata": {
      "needs_background": "light"
     },
     "output_type": "display_data"
    }
   ],
   "source": [
    "# plotting the rotated rectangle coordinates\n",
    "\n",
    "fig = plt.figure(1, figsize=(5,5), dpi=90) \n",
    "ro_rectangle_shape = Polygon(rotated_points)\n",
    "ax = fig.add_subplot(111)\n",
    "ro_rectangle_shape = PolygonPatch(ro_rectangle_shape)\n",
    "ax.add_patch(ro_rectangle_shape)\n",
    "ax.set_xlim([-4, 13])\n",
    "ax.set_ylim([-4,13])\n",
    "ax.set_aspect(1)\n",
    "plt.grid()\n",
    "plt.show()"
   ]
  },
  {
   "cell_type": "code",
   "execution_count": 17,
   "metadata": {
    "deletable": false,
    "editable": false,
    "id": "Vx4JKISp_jw5",
    "nbgrader": {
     "cell_type": "code",
     "checksum": "9c17f271dba8a4be5f6fbf111ca9714d",
     "grade": false,
     "grade_id": "cell-a6b312503e74d02e",
     "locked": true,
     "schema_version": 3,
     "solution": false
    }
   },
   "outputs": [
    {
     "data": {
      "image/png": "[encoded data removed]",
      "text/plain": [
       "<Figure size 450x450 with 1 Axes>"
      ]
     },
     "metadata": {
      "needs_background": "light"
     },
     "output_type": "display_data"
    }
   ],
   "source": [
    "# plotting the original and translated triangle together\n",
    "fig = plt.figure(1, figsize=(5,5), dpi=90)\n",
    "ro_rectangle_shape = Polygon(rotated_points)\n",
    "ax = fig.add_subplot(111)\n",
    "ro_rectangle_shape = PolygonPatch(ro_rectangle_shape, facecolor='red')\n",
    "ax.add_patch(ro_rectangle_shape)\n",
    "rectangle_shape = Polygon(rectangle)\n",
    "rectangle_shape = PolygonPatch(rectangle_shape)\n",
    "ax.add_patch(rectangle_shape)\n",
    "ax.set_xlim([-4, 14])\n",
    "ax.set_ylim([-4,14])\n",
    "ax.set_aspect(1)\n",
    "plt.plot(\n",
    "    [COR[0] if k==0 else rectangle[k-1][0]  for k in range(len(rectangle)+1)],\n",
    "    [COR[1] if k==0 else rectangle[k-1][1]  for k in range(len(rectangle)+1)],\n",
    "    'r--',\n",
    "    [COR[0] if k==0 else rotated_points[k-1][0]  for k in range(len(rotated_points)+1)],\n",
    "    [COR[1] if k==0 else rotated_points[k-1][1]  for k in range(len(rotated_points)+1)],\n",
    "    'b--'\n",
    "    )\n",
    "plt.grid()\n",
    "plt.show()"
   ]
  },
  {
   "cell_type": "markdown",
   "metadata": {
    "deletable": false,
    "editable": false,
    "id": "gJobKdGN_jw8",
    "nbgrader": {
     "cell_type": "markdown",
     "checksum": "8b867c3fea586137a757e7736d0a1887",
     "grade": false,
     "grade_id": "cell-ecd8d8b84f8c4194",
     "locked": true,
     "schema_version": 3,
     "solution": false
    }
   },
   "source": [
    "## **Scaling**<a name=\"scaling\"></a>\n",
    "\n",
    "Scaling means to resize an object. That means you either increase or decrease the size of the object. The process of increasing size is called enlargement/dilation, and decreasing size is called reduction/contraction.\n",
    "\n",
    "Enlargement and dilation of an object depends on the scaling factor used for scaling transformation. If the sclaing factor > 1, it is called enlargement, and if it is less than 1, it is called contraction.  "
   ]
  },
  {
   "cell_type": "markdown",
   "metadata": {
    "deletable": false,
    "editable": false,
    "id": "i4gMu4ZY_jw9",
    "nbgrader": {
     "cell_type": "markdown",
     "checksum": "c5ffb43868282384c29cf1005607928e",
     "grade": false,
     "grade_id": "cell-6e942bb8c8ab8afb",
     "locked": true,
     "schema_version": 3,
     "solution": false
    }
   },
   "source": [
    "### **Exercise  3**<a name=\"exercise-3\"></a>\n",
    "\n",
    "### **[Points: 5]**\n",
    "\n",
    "Here, you create functions to accomplish the scaling transformation."
   ]
  },
  {
   "cell_type": "markdown",
   "metadata": {
    "deletable": false,
    "editable": false,
    "id": "vu2RBPpR_jw-",
    "nbgrader": {
     "cell_type": "markdown",
     "checksum": "cebea2988c1e79ad284b22211ff27046",
     "grade": false,
     "grade_id": "cell-964a834de693f876",
     "locked": true,
     "schema_version": 3,
     "solution": false
    }
   },
   "source": [
    "#### **Task 1:** <a name=\"exercise-3-task-1\"></a>\n",
    "\n",
    "###**[Points: 2]**\n",
    "\n",
    "In this task, you create a function to calculate the scaling matrix. \n",
    "\n",
    "___Hint:___\n",
    "\n",
    "   \n",
    "   * Convert the following 2D scaling matrix into homogeneous form:\n",
    "\n",
    "$$ \n",
    "\\begin{bmatrix}\n",
    "S_x & 0 \\\\ 0 & S_y \n",
    "\\end{bmatrix}\n",
    "{-------->}^{Homogeneous form}\n",
    "\\begin{bmatrix}\n",
    "S_x & 0 & 0\n",
    " \\\\\n",
    " 0 & S_y  & 0\n",
    "\\\\  0 & 0 & 1\n",
    "\\end{bmatrix}\n",
    "$$\n",
    "\n",
    "\n"
   ]
  },
  {
   "cell_type": "code",
   "execution_count": 18,
   "metadata": {
    "deletable": false,
    "id": "nql2lu1p_jw-",
    "nbgrader": {
     "cell_type": "code",
     "checksum": "7d0bc2b1a7e94ed63a5c0b6194292cb2",
     "grade": false,
     "grade_id": "cell-4c304acce83f9a52",
     "locked": false,
     "schema_version": 3,
     "solution": true
    },
    "tags": [
     "Ex-3-Task-1"
    ]
   },
   "outputs": [],
   "source": [
    "### Ex-3-Task-1\n",
    "def get_scaling_matrix(scaling_factor):\n",
    "    \n",
    "    '''\n",
    "    This function provides you the scaling matrix for scaling geometric transformation.\n",
    "    \n",
    "    Parameters\n",
    "    ----------\n",
    "        scaling_factor: list, x  and y scaling factors\n",
    "    \n",
    "    return\n",
    "    ------\n",
    "        scaling_matrix : numpy array\n",
    "    '''\n",
    "    \n",
    "    # homogeneous scaling matrix \n",
    "    scaling_matrix = None\n",
    "    \n",
    "    # Exercise 3 / Task 1\n",
    "    ### BEGIN SOLUTION\n",
    "    # your code here\n",
    "    scaling_matrix = np.array([[scaling_factor[0], 0, 0],\n",
    "                               [0, scaling_factor[1], 0],\n",
    "                               [0, 0, 1]])\n",
    "    ### END SOLUTION\n",
    "    \n",
    "    return scaling_matrix"
   ]
  },
  {
   "cell_type": "code",
   "execution_count": 19,
   "metadata": {
    "deletable": false,
    "editable": false,
    "id": "W28Wg6VE_jxB",
    "nbgrader": {
     "cell_type": "code",
     "checksum": "2c7af666c82b3b03de35ef7c8634fd37",
     "grade": true,
     "grade_id": "cell-4db0c7fc436aa797",
     "locked": true,
     "points": 2,
     "schema_version": 3,
     "solution": false
    },
    "tags": [
     "Ex-3-Task-1"
    ]
   },
   "outputs": [],
   "source": [
    "### INTENTIONALLY LEFT BLANK ###"
   ]
  },
  {
   "cell_type": "markdown",
   "metadata": {
    "deletable": false,
    "editable": false,
    "id": "vVdtoXpS_jxE",
    "nbgrader": {
     "cell_type": "markdown",
     "checksum": "5cbd2d1b386d86b0a475047da6361c8e",
     "grade": false,
     "grade_id": "cell-256c674ae8f04aee",
     "locked": true,
     "schema_version": 3,
     "solution": false
    }
   },
   "source": [
    "#### **Task 2:** <a name=\"exercise-3-task-2\"></a>\n",
    "\n",
    "#### **[Points: 3]**\n",
    "\n",
    "In this task, you create a function to perform the scaling geometric transformation and returns the array of scaled homogeneous coordiantes. \n",
    "\n",
    "***Step 1:***  Convert the given coordinates points to homogeneous coordinate system\n",
    "\n",
    "   * Similar to [Step 1](#exercise-2-task-2) of rotation exercise 2 task 2  \n",
    "   \n",
    "***Step 2:*** Calculate the scaling matrix\n",
    "    \n",
    "   * Use `get_scaling_matrix()`, for calculation of the scaling matrix\n",
    "\n",
    "***Step 3:*** Calculate the scaled points\n",
    "\n",
    "   * Use `np.matmul()`, to multiply homogeneous_points and scaling_matrix for calculating the scaled points\n",
    "\n",
    "***Step 4:*** Convert homogeneous rotated points to cartesian form\n",
    "\n",
    "   * Use `homogeneous_to_cartesian()`"
   ]
  },
  {
   "cell_type": "code",
   "execution_count": 20,
   "metadata": {
    "deletable": false,
    "id": "RyJrdVDf_jxE",
    "nbgrader": {
     "cell_type": "code",
     "checksum": "8801b9c18dc416f8f2f317d5c30fe202",
     "grade": false,
     "grade_id": "cell-da284a7f8f60ba32",
     "locked": false,
     "schema_version": 3,
     "solution": true
    },
    "tags": [
     "Ex-3-Task-2"
    ]
   },
   "outputs": [],
   "source": [
    "### Ex-3-Task-2\n",
    "def scaling(points, scaling_factor):\n",
    "        '''\n",
    "            This function performs scaling geometric transformation and returns the scaled points.\n",
    "        \n",
    "            Parameters\n",
    "            -----------\n",
    "                scaling_factor: list, x  and y scaling factors\n",
    "        \n",
    "            return\n",
    "            ------\n",
    "                scaled_points: numpy array of scaled points(homogeneous form)\n",
    "                cart_scaled_points: numpy array of scaled points(cartesian form)\n",
    "        \n",
    "        '''\n",
    "        # STEP 1: convert the given points to homogenous form(in numpy array)\n",
    "        homogenous_points = None\n",
    "        \n",
    "        # STEP 2: get scaling matrix\n",
    "        rscaling_matrix = None\n",
    "        \n",
    "        # STEP 3: get scaled points by multiplying homogeneous points with scaling matrix\n",
    "        scaled_points = None\n",
    "        \n",
    "        # STEP 4: convert to cartesian form\n",
    "        cart_scaled_points = None\n",
    "        \n",
    "        # Exercise 3 / Task 2\n",
    "        ### BEGIN SOLUTION\n",
    "        # your code here\n",
    "        homogenous_points = cartesian_to_homogeneous(np.asarray(points))\n",
    "        rscaling_matrix = get_scaling_matrix(scaling_factor)\n",
    "        scaled_points = np.matmul(rscaling_matrix,homogenous_points.T).T\n",
    "        cart_scaled_points = homogeneous_to_cartesian(scaled_points)\n",
    "        ### END SOLUTION\n",
    "        \n",
    "        return scaled_points, cart_scaled_points"
   ]
  },
  {
   "cell_type": "code",
   "execution_count": 21,
   "metadata": {
    "deletable": false,
    "editable": false,
    "id": "M0BWjJR8_jxH",
    "nbgrader": {
     "cell_type": "code",
     "checksum": "528f00436e7ccdb41a54ffb50b7dba95",
     "grade": true,
     "grade_id": "cell-38d48a6ebaae13cd",
     "locked": true,
     "points": 3,
     "schema_version": 3,
     "solution": false
    },
    "tags": [
     "Ex-3-Task-2"
    ]
   },
   "outputs": [],
   "source": [
    "### INTENTIONALLY LEFT BLANK ###"
   ]
  },
  {
   "cell_type": "markdown",
   "metadata": {
    "deletable": false,
    "editable": false,
    "id": "-X1hvQqi_jxK",
    "nbgrader": {
     "cell_type": "markdown",
     "checksum": "d538787c1eddf0c084858723842f364e",
     "grade": false,
     "grade_id": "cell-3590470af9b95221",
     "locked": true,
     "schema_version": 3,
     "solution": false
    }
   },
   "source": [
    "Now, let use above codes to scale the same rectangle `ABCD` with coordinates A(3, 5), B(3,10), C(8,10), D(8, 5)."
   ]
  },
  {
   "cell_type": "code",
   "execution_count": 22,
   "metadata": {
    "deletable": false,
    "editable": false,
    "id": "mPyi0dmU_jxK",
    "nbgrader": {
     "cell_type": "code",
     "checksum": "419cd20673a4194b374cd1dfcb93bbf8",
     "grade": false,
     "grade_id": "cell-f4ef0a4ff7e06d6a",
     "locked": true,
     "schema_version": 3,
     "solution": false
    }
   },
   "outputs": [],
   "source": [
    "scaling_factor = [3,3]"
   ]
  },
  {
   "cell_type": "code",
   "execution_count": 23,
   "metadata": {
    "deletable": false,
    "editable": false,
    "id": "c9XkAiGQ_jxN",
    "nbgrader": {
     "cell_type": "code",
     "checksum": "0f52df726e3b382209253042ac8c6d5a",
     "grade": false,
     "grade_id": "cell-52275f50e10005ff",
     "locked": true,
     "schema_version": 3,
     "solution": false
    }
   },
   "outputs": [
    {
     "data": {
      "text/plain": [
       "[[3, 5], [3, 10], [8, 10], [8, 5]]"
      ]
     },
     "execution_count": 23,
     "metadata": {},
     "output_type": "execute_result"
    }
   ],
   "source": [
    "rectangle"
   ]
  },
  {
   "cell_type": "code",
   "execution_count": 24,
   "metadata": {
    "deletable": false,
    "editable": false,
    "id": "Vvb6D64a_jxQ",
    "nbgrader": {
     "cell_type": "code",
     "checksum": "8cbe5b335fe106f1284b8cec591087ae",
     "grade": false,
     "grade_id": "cell-1cb042a60302c4d0",
     "locked": true,
     "schema_version": 3,
     "solution": false
    }
   },
   "outputs": [
    {
     "name": "stdout",
     "output_type": "stream",
     "text": [
      "[[ 9 15  1]\n",
      " [ 9 30  1]\n",
      " [24 30  1]\n",
      " [24 15  1]]\n"
     ]
    },
    {
     "data": {
      "text/plain": [
       "array([[ 9., 15.],\n",
       "       [ 9., 30.],\n",
       "       [24., 30.],\n",
       "       [24., 15.]])"
      ]
     },
     "execution_count": 24,
     "metadata": {},
     "output_type": "execute_result"
    }
   ],
   "source": [
    "# scaling with given scaling factor \n",
    "homo_scaled_points, scaled_points = scaling(rectangle, scaling_factor)\n",
    "print(homo_scaled_points)\n",
    "scaled_points"
   ]
  },
  {
   "cell_type": "code",
   "execution_count": 25,
   "metadata": {
    "deletable": false,
    "editable": false,
    "id": "cfXVNa4W_jxT",
    "nbgrader": {
     "cell_type": "code",
     "checksum": "443734fb68c638b52f5c4232aeb99926",
     "grade": false,
     "grade_id": "cell-4afcf338ba832c05",
     "locked": true,
     "schema_version": 3,
     "solution": false
    }
   },
   "outputs": [
    {
     "data": {
      "image/png": "[encoded data removed]",
      "text/plain": [
       "<Figure size 450x450 with 1 Axes>"
      ]
     },
     "metadata": {
      "needs_background": "light"
     },
     "output_type": "display_data"
    }
   ],
   "source": [
    "# plotting the scaled rectangle coordinates\n",
    "\n",
    "fig = plt.figure(1, figsize=(5,5), dpi=90) \n",
    "sc_rectangle_shape = Polygon(scaled_points)\n",
    "ax = fig.add_subplot(111)\n",
    "sc_rectangle_shape = PolygonPatch(sc_rectangle_shape)\n",
    "ax.add_patch(sc_rectangle_shape)\n",
    "ax.set_xlim([0, 33])\n",
    "ax.set_ylim([0, 33])\n",
    "ax.set_aspect(1)\n",
    "plt.grid()\n",
    "plt.show()"
   ]
  },
  {
   "cell_type": "code",
   "execution_count": 26,
   "metadata": {
    "deletable": false,
    "editable": false,
    "id": "p8jGNml9_jxW",
    "nbgrader": {
     "cell_type": "code",
     "checksum": "884f97eaa70e859ab457220b7aa905d6",
     "grade": false,
     "grade_id": "cell-acb13632dcc6be45",
     "locked": true,
     "schema_version": 3,
     "solution": false
    }
   },
   "outputs": [
    {
     "data": {
      "image/png": "[encoded data removed]",
      "text/plain": [
       "<Figure size 450x450 with 1 Axes>"
      ]
     },
     "metadata": {
      "needs_background": "light"
     },
     "output_type": "display_data"
    }
   ],
   "source": [
    "# plotting the original and translated triangle together\n",
    "fig = plt.figure(1, figsize=(5,5), dpi=90)\n",
    "sc_rectangle_shape = Polygon(scaled_points)\n",
    "ax = fig.add_subplot(111)\n",
    "sc_rectangle_shape = PolygonPatch(sc_rectangle_shape, facecolor='red')\n",
    "ax.add_patch(sc_rectangle_shape)\n",
    "rectangle_shape = Polygon(rectangle)\n",
    "rectangle_shape = PolygonPatch(rectangle_shape)\n",
    "ax.add_patch(rectangle_shape)\n",
    "ax.set_xlim([0, 33])\n",
    "ax.set_ylim([0, 33])\n",
    "ax.set_aspect(1)\n",
    "plt.grid()\n",
    "plt.show()"
   ]
  },
  {
   "cell_type": "markdown",
   "metadata": {
    "deletable": false,
    "editable": false,
    "id": "DHoabblO_jxZ",
    "nbgrader": {
     "cell_type": "markdown",
     "checksum": "216e0a768f1c5f08110a26358be9380a",
     "grade": false,
     "grade_id": "cell-d6c72ab0d67b588c",
     "locked": true,
     "schema_version": 3,
     "solution": false
    }
   },
   "source": [
    "## **Translation**<a name=\"translation\"></a>\n",
    "\n",
    "Translation means shifting an object from one position to another using shifting vector/translation vector, $\\mathbf{T}$, $\\begin{bmatrix}t_x\\\\t_y\\end{bmatrix}$. "
   ]
  },
  {
   "cell_type": "markdown",
   "metadata": {
    "deletable": false,
    "editable": false,
    "id": "0ol36jqV_jxa",
    "nbgrader": {
     "cell_type": "markdown",
     "checksum": "fb44e47667c888a6ec618d981008606d",
     "grade": false,
     "grade_id": "cell-16025a5a3473823d",
     "locked": true,
     "schema_version": 3,
     "solution": false
    }
   },
   "source": [
    "### **Exercise  4** <a name=\"exercise-4\"></a>\n",
    "\n",
    "### **[Points: 5]**\n",
    "\n",
    "Here, you create functions in order to perform the translation operation."
   ]
  },
  {
   "cell_type": "markdown",
   "metadata": {
    "deletable": false,
    "editable": false,
    "id": "I7RRKEAf_jxa",
    "nbgrader": {
     "cell_type": "markdown",
     "checksum": "fff51660e6c2e651ea7b4cc70f2183e7",
     "grade": false,
     "grade_id": "cell-b848b89c8b579675",
     "locked": true,
     "schema_version": 3,
     "solution": false
    }
   },
   "source": [
    "#### **Task 1:** <a name=\"exercise-4-task-1\"></a>\n",
    "\n",
    "#### **[Points: 2]**\n",
    "\n",
    "In this task, you create a function to calculate the translation homogeneous matrix. \n",
    "\n",
    "___Hint:___\n",
    "\n",
    "   \n",
    "   * Convert the following 2D translation matrix into homogeneous form:\n",
    "\n",
    "$$ \n",
    "\\begin{bmatrix}\n",
    "t_x  \\\\ t_y \n",
    "\\end{bmatrix}\n",
    "{-------->}^{Homogeneous form}\n",
    "\\begin{bmatrix}\n",
    "1 & 0 & t_x\n",
    " \\\\\n",
    " 0 & 1  & t_y\n",
    "\\\\  0 & 0 & 1\n",
    "\\end{bmatrix}\n",
    "$$\n"
   ]
  },
  {
   "cell_type": "code",
   "execution_count": 27,
   "metadata": {
    "deletable": false,
    "id": "QjaGWOpq_jxb",
    "nbgrader": {
     "cell_type": "code",
     "checksum": "6606965b2fcd22a87888eb0e231f642d",
     "grade": false,
     "grade_id": "cell-3168ee6e4b62c8ea",
     "locked": false,
     "schema_version": 3,
     "solution": true
    },
    "tags": [
     "Ex-4-Task-1"
    ]
   },
   "outputs": [],
   "source": [
    "### Ex-4-Task-1\n",
    "def get_translation_matrix(translation_vector):\n",
    "    \n",
    "    '''\n",
    "    This function provides you the translation homogeneous matrix for translation geometric transformation.\n",
    "    \n",
    "    Parameters\n",
    "    ----------\n",
    "        translation_vector: list, x  and y scaling factors\n",
    "    \n",
    "    return\n",
    "    ------\n",
    "        translation_matrix : numpy array\n",
    "    '''\n",
    "    \n",
    "    # homogeneous translation matrix \n",
    "    translation_matrix = None\n",
    "    \n",
    "    # Exercise 4 / Task 1\n",
    "    ### BEGIN SOLUTION\n",
    "    # your code here\n",
    "    translation_matrix = np.identity(3)\n",
    "    translation_matrix[:2, 2] = translation_vector\n",
    "    ### END SOLUTION\n",
    "    \n",
    "    return translation_matrix"
   ]
  },
  {
   "cell_type": "code",
   "execution_count": 28,
   "metadata": {
    "deletable": false,
    "editable": false,
    "id": "1PDnbNx5_jxe",
    "nbgrader": {
     "cell_type": "code",
     "checksum": "a3a696b0c1685c4da97bd1d6817663ab",
     "grade": true,
     "grade_id": "cell-98b156fd70182748",
     "locked": true,
     "points": 2,
     "schema_version": 3,
     "solution": false
    },
    "tags": [
     "Ex-4-Task-1"
    ]
   },
   "outputs": [],
   "source": [
    "### INTENTIONALLY LEFT BLANK ###"
   ]
  },
  {
   "cell_type": "markdown",
   "metadata": {
    "deletable": false,
    "editable": false,
    "id": "MpoM2biw_jxh",
    "nbgrader": {
     "cell_type": "markdown",
     "checksum": "1dfb02fc80f745db30ef003ab7649d67",
     "grade": false,
     "grade_id": "cell-9b7767a23ab40161",
     "locked": true,
     "schema_version": 3,
     "solution": false
    }
   },
   "source": [
    "#### **Task 2:** <a name=\"exercise-4-task-2\"></a>\n",
    "\n",
    "#### **[Points: 3]**\n",
    "\n",
    "In this task, you create a function to perform the translation and returns the array of translated homogeneous coordinates. \n",
    "\n",
    "***Step 1:***  Convert the given coordinates points to homogeneous coordinate system\n",
    "\n",
    "   * Similar to [Step 1](#exercise-2-task-2) of rotation exercise 2 task 2  \n",
    "   \n",
    "***Step 2:*** Calculate the translation matrix\n",
    "    \n",
    "   * Use `get_translation_matrix()`, for calculation of the translation matrix\n",
    "\n",
    "***Step 3:*** Calculate the translated points\n",
    "\n",
    "   * Use `np.matmul()`, to multiply homogeneous_points and translation_matrix transpose(use np.transpose or .T operator) for calculating the translated points\n",
    "\n",
    "***Step 4:*** Convert homogeneous rotated points to cartesian form\n",
    "\n",
    "   * Use `homogeneous_to_cartesian()`"
   ]
  },
  {
   "cell_type": "code",
   "execution_count": 29,
   "metadata": {
    "deletable": false,
    "id": "p19mf-Pg_jxi",
    "nbgrader": {
     "cell_type": "code",
     "checksum": "1eb7a7fe10b48c771bacd94e7e659f51",
     "grade": false,
     "grade_id": "cell-ad559524a984d9a0",
     "locked": false,
     "schema_version": 3,
     "solution": true
    },
    "tags": [
     "Ex-4-Task-2"
    ]
   },
   "outputs": [],
   "source": [
    "### Ex-4-Task-2\n",
    "def translation(points, translation_vector):\n",
    "        '''\n",
    "            This function performs translation geometric transformation and returns the translated points.\n",
    "        \n",
    "            Parameters\n",
    "            -----------\n",
    "                translation_vector: list, x  and y scaling factors\n",
    "        \n",
    "            return\n",
    "            ------\n",
    "                translated_points: numpy array of translated points(homogeneous_form)\n",
    "                cart_translated_points: numpy array of translated points(cartesian_form)\n",
    "        '''\n",
    "        # STEP 1: convert the given points to homogeneous form(in numpy array)\n",
    "        homogeneous_points = None\n",
    "        \n",
    "        # STEP 2: get scaling matrix\n",
    "        translation_matrix = None\n",
    "        \n",
    "        # STEP 3: get translated points by multiplying homogeneous points with translation matrix\n",
    "        translated_points = None\n",
    "        \n",
    "        # STEP 4: convert to cartesian form\n",
    "        cart_translated_points = None\n",
    "        \n",
    "        # Exercise 4 / Task 2\n",
    "        ### BEGIN SOLUTION\n",
    "        # your code here\n",
    "        homogenous_points = cartesian_to_homogeneous(np.asarray(points))\n",
    "        translation_matrix = get_translation_matrix(translation_vector)\n",
    "        translated_points = np.matmul(translation_matrix,homogenous_points.T).T\n",
    "        cart_translated_points = homogeneous_to_cartesian(translated_points)\n",
    "        ### END SOLUTION\n",
    "        \n",
    "        return translated_points, cart_translated_points"
   ]
  },
  {
   "cell_type": "code",
   "execution_count": 30,
   "metadata": {
    "deletable": false,
    "editable": false,
    "id": "_AbvcgkT_jxk",
    "nbgrader": {
     "cell_type": "code",
     "checksum": "6805686b94d984d591d7571f1ab708db",
     "grade": true,
     "grade_id": "cell-f72f605139a46fa9",
     "locked": true,
     "points": 3,
     "schema_version": 3,
     "solution": false
    },
    "tags": [
     "Ex-4-Task-2"
    ]
   },
   "outputs": [],
   "source": [
    "### INTENTIONALLY LEFT BLANK ###"
   ]
  },
  {
   "cell_type": "markdown",
   "metadata": {
    "deletable": false,
    "editable": false,
    "id": "kl3nX-TQ_jxn",
    "nbgrader": {
     "cell_type": "markdown",
     "checksum": "f5971ff9e11468c15ab3964ed20cd065",
     "grade": false,
     "grade_id": "cell-ab1ca5d3f459f1b7",
     "locked": true,
     "schema_version": 3,
     "solution": false
    }
   },
   "source": [
    "Now, let use above codes to scale the same rectangle `ABCD` with coordinates A(3, 5), B(3,10), C(8,10), D(8, 5)."
   ]
  },
  {
   "cell_type": "code",
   "execution_count": 31,
   "metadata": {
    "deletable": false,
    "editable": false,
    "id": "JpUa-tnk_jxo",
    "nbgrader": {
     "cell_type": "code",
     "checksum": "d0b3ea7bb5185635ef442244232fa159",
     "grade": false,
     "grade_id": "cell-65151af5c4bbcde4",
     "locked": true,
     "schema_version": 3,
     "solution": false
    }
   },
   "outputs": [],
   "source": [
    "translation_vector = [5,5]"
   ]
  },
  {
   "cell_type": "code",
   "execution_count": 32,
   "metadata": {
    "deletable": false,
    "editable": false,
    "id": "c6hKKsT2_jxr",
    "nbgrader": {
     "cell_type": "code",
     "checksum": "5f175ab124a4586872809e0eb54dd95c",
     "grade": false,
     "grade_id": "cell-e758a86e1f475f47",
     "locked": true,
     "schema_version": 3,
     "solution": false
    }
   },
   "outputs": [
    {
     "data": {
      "text/plain": [
       "[[3, 5], [3, 10], [8, 10], [8, 5]]"
      ]
     },
     "execution_count": 32,
     "metadata": {},
     "output_type": "execute_result"
    }
   ],
   "source": [
    "rectangle"
   ]
  },
  {
   "cell_type": "code",
   "execution_count": 33,
   "metadata": {
    "deletable": false,
    "editable": false,
    "id": "cQeYDg2c_jxv",
    "nbgrader": {
     "cell_type": "code",
     "checksum": "fd6fa201accb137c64ac72ba7315173a",
     "grade": false,
     "grade_id": "cell-4919fcce1ca09a36",
     "locked": true,
     "schema_version": 3,
     "solution": false
    }
   },
   "outputs": [
    {
     "name": "stdout",
     "output_type": "stream",
     "text": [
      "[[ 8. 10.  1.]\n",
      " [ 8. 15.  1.]\n",
      " [13. 15.  1.]\n",
      " [13. 10.  1.]]\n"
     ]
    },
    {
     "data": {
      "text/plain": [
       "array([[ 8., 10.],\n",
       "       [ 8., 15.],\n",
       "       [13., 15.],\n",
       "       [13., 10.]])"
      ]
     },
     "execution_count": 33,
     "metadata": {},
     "output_type": "execute_result"
    }
   ],
   "source": [
    "# Translation with given translation vector \n",
    "homo_translated_points, translated_points = translation(rectangle, translation_vector)\n",
    "print(homo_translated_points)\n",
    "\n",
    "translated_points"
   ]
  },
  {
   "cell_type": "code",
   "execution_count": 35,
   "metadata": {
    "deletable": false,
    "editable": false,
    "id": "NApGT2ap_jxy",
    "nbgrader": {
     "cell_type": "code",
     "checksum": "9ac416882d778f0d0c5c5d24507848fa",
     "grade": false,
     "grade_id": "cell-9ec5d4969b45532b",
     "locked": true,
     "schema_version": 3,
     "solution": false
    }
   },
   "outputs": [
    {
     "data": {
      "image/png": "[encoded data removed]",
      "text/plain": [
       "<Figure size 450x450 with 1 Axes>"
      ]
     },
     "metadata": {
      "needs_background": "light"
     },
     "output_type": "display_data"
    }
   ],
   "source": [
    "# plotting the translated rectangle coordinates\n",
    "\n",
    "fig = plt.figure(1, figsize=(5,5), dpi=90) \n",
    "trans_rectangle_shape = Polygon(translated_points)\n",
    "ax = fig.add_subplot(111)\n",
    "trans_rectangle_shape = PolygonPatch(trans_rectangle_shape)\n",
    "ax.add_patch(trans_rectangle_shape)\n",
    "ax.set_xlim([0, 20])\n",
    "ax.set_ylim([0, 20])\n",
    "ax.set_aspect(1)\n",
    "plt.grid()\n",
    "plt.show()"
   ]
  },
  {
   "cell_type": "code",
   "execution_count": 36,
   "metadata": {
    "deletable": false,
    "editable": false,
    "id": "5FeRh6mz_jx2",
    "nbgrader": {
     "cell_type": "code",
     "checksum": "c4c76e6f98c69cab40e69cc8b2464246",
     "grade": false,
     "grade_id": "cell-39f1bee135ff9ea8",
     "locked": true,
     "schema_version": 3,
     "solution": false
    }
   },
   "outputs": [
    {
     "data": {
      "image/png": "[encoded data removed]",
      "text/plain": [
       "<Figure size 450x450 with 1 Axes>"
      ]
     },
     "metadata": {
      "needs_background": "light"
     },
     "output_type": "display_data"
    }
   ],
   "source": [
    "# plotting the original and translated triangle together\n",
    "fig = plt.figure(1, figsize=(5,5), dpi=90)\n",
    "trans_rectangle_shape = Polygon(translated_points)\n",
    "ax = fig.add_subplot(111)\n",
    "trans_rectangle_shape = PolygonPatch(trans_rectangle_shape, facecolor='red')\n",
    "ax.add_patch(trans_rectangle_shape)\n",
    "rectangle_shape = Polygon(rectangle)\n",
    "rectangle_shape = PolygonPatch(rectangle_shape)\n",
    "ax.add_patch(rectangle_shape)\n",
    "ax.set_xlim([0, 20])\n",
    "ax.set_ylim([0, 20])\n",
    "ax.set_aspect(1)\n",
    "plt.grid()\n",
    "plt.show()"
   ]
  },
  {
   "cell_type": "markdown",
   "metadata": {
    "deletable": false,
    "editable": false,
    "id": "iLeqj29x_jx5",
    "nbgrader": {
     "cell_type": "markdown",
     "checksum": "8a85d6110e0cb6261d73889d589fbf1f",
     "grade": false,
     "grade_id": "cell-1bed3c0f9dc4c1a5",
     "locked": true,
     "schema_version": 3,
     "solution": false
    }
   },
   "source": [
    "## **Composite Transformation** <a name=\"composite_transformation\"></a>\n",
    "\n",
    "Composite tramsformation where you perform different types of transformation together. For example, you can perform rotation followed by scaling, which is a simple composite transformation. "
   ]
  },
  {
   "cell_type": "markdown",
   "metadata": {
    "deletable": false,
    "editable": false,
    "id": "3vYr4cEq_jx6",
    "nbgrader": {
     "cell_type": "markdown",
     "checksum": "35558883417bfde191c10c4d92310d99",
     "grade": false,
     "grade_id": "cell-852141f4cd101d3a",
     "locked": true,
     "schema_version": 3,
     "solution": false
    }
   },
   "source": [
    "### **Exercise  5** <a name=\"exercise-5\"></a>\n",
    "\n",
    "### **[Points: 5]**\n",
    "\n",
    "Here, you will perform the composite tranformation formed by the combination of rotation, scaling and translation. Here, you perform the rotation followed by scaling followed by translation on the same rectangle used in the above codes.\n",
    "\n",
    "***Step 1:*** Performing rotation\n",
    "\n",
    "  * Use `rotation()` function for the rotation operation\n",
    "\n",
    "***Step 2:*** Performing scaling\n",
    "\n",
    "  * Use `scaling()` function for the scaling operation\n",
    "\n",
    "***Step 3:*** Performing rotation\n",
    "\n",
    "  * Use `translation()` function for the translation operation\n",
    "\n",
    "\n"
   ]
  },
  {
   "cell_type": "code",
   "execution_count": 75,
   "metadata": {
    "deletable": false,
    "editable": false,
    "id": "U1b1TlJZ_jx6",
    "nbgrader": {
     "cell_type": "code",
     "checksum": "e55bd2289c0db8583ad169c5c94296ea",
     "grade": false,
     "grade_id": "cell-07c0334da02215e6",
     "locked": true,
     "schema_version": 3,
     "solution": false
    }
   },
   "outputs": [],
   "source": [
    "scaling_factor = [3,4]\n",
    "translation_vector = [5,5]\n",
    "COR = [0, 0]\n",
    "angle = 30"
   ]
  },
  {
   "cell_type": "code",
   "execution_count": 76,
   "metadata": {
    "deletable": false,
    "editable": false,
    "id": "kFLKTtCO_jx9",
    "nbgrader": {
     "cell_type": "code",
     "checksum": "2e3a497893e308bbd4b42e51fdd96019",
     "grade": false,
     "grade_id": "cell-9bec3ba51ce8f653",
     "locked": true,
     "schema_version": 3,
     "solution": false
    }
   },
   "outputs": [
    {
     "data": {
      "text/plain": [
       "[[3, 5], [3, 10], [8, 10], [8, 5]]"
      ]
     },
     "execution_count": 76,
     "metadata": {},
     "output_type": "execute_result"
    }
   ],
   "source": [
    "rectangle"
   ]
  },
  {
   "cell_type": "code",
   "execution_count": 51,
   "metadata": {
    "deletable": false,
    "id": "2jILEQps_jyC",
    "nbgrader": {
     "cell_type": "code",
     "checksum": "649fb7b610c0fd8eef039baec1d1bb99",
     "grade": false,
     "grade_id": "cell-2090ba136df890d9",
     "locked": false,
     "schema_version": 3,
     "solution": true
    },
    "tags": [
     "Ex-5-Task-1"
    ]
   },
   "outputs": [
    {
     "name": "stdout",
     "output_type": "stream",
     "text": [
      "[(0.7573593128807161, 21.97056274847714), (-9.849242404917495, 32.57716446627535), (0.7573593128807179, 43.18376618407356), (11.36396103067893, 32.57716446627535)]\n"
     ]
    }
   ],
   "source": [
    "### Ex-5-Task-1\n",
    "\n",
    "# Step 1: rotation operation to get rotated points\n",
    "rotated_points = None\n",
    "\n",
    "# Step 2: scaling operation to get scaled points \n",
    "scaled_points = None\n",
    "\n",
    "# Step 3: translation operation to get translated points \n",
    "translation_points = None\n",
    "\n",
    "# Exercise 5\n",
    "### BEGIN SOLUTION\n",
    "# your code here\n",
    "rotated_points = rotation(rectangle, angle, COR)\n",
    "scaled_points = scaling(rotated_points[1], scaling_factor)\n",
    "translation_points = translation(scaled_points[1], translation_vector)\n",
    "translation_points = translation_points[1]\n",
    "translation_points = [tuple(x) for x in translation_points]\n",
    "\n",
    "### END SOLUTION\n",
    "\n"
   ]
  },
  {
   "cell_type": "code",
   "execution_count": 52,
   "metadata": {
    "deletable": false,
    "editable": false,
    "id": "GEdXDf-H_jyG",
    "nbgrader": {
     "cell_type": "code",
     "checksum": "b39057f67ad0c6bffffc2b20c3b12980",
     "grade": true,
     "grade_id": "cell-1d446b32faf660b9",
     "locked": true,
     "points": 5,
     "schema_version": 3,
     "solution": false
    },
    "tags": [
     "Ex-5-Task-1"
    ]
   },
   "outputs": [],
   "source": [
    "assert rotated_points is not None\n",
    "assert scaled_points is not None\n",
    "assert translation_points is not None\n",
    "\n",
    "### INTENTIONALLY LEFT BLANK ###"
   ]
  },
  {
   "cell_type": "code",
   "execution_count": 53,
   "metadata": {
    "deletable": false,
    "editable": false,
    "id": "pzzTpX7u_jyL",
    "nbgrader": {
     "cell_type": "code",
     "checksum": "935b2288552573a5f09f15a9bf835d64",
     "grade": false,
     "grade_id": "cell-749dcd6f79301a2e",
     "locked": true,
     "schema_version": 3,
     "solution": false
    }
   },
   "outputs": [
    {
     "name": "stderr",
     "output_type": "stream",
     "text": [
      "/opt/anaconda3/envs/cv/lib/python3.9/site-packages/descartes/patch.py:63: ShapelyDeprecationWarning: The array interface is deprecated and will no longer work in Shapely 2.0. Convert the '.coords' to a numpy array instead.\n",
      "  concatenate([asarray(t.exterior)[:, :2]] +\n"
     ]
    },
    {
     "data": {
      "image/png": "[encoded data removed]",
      "text/plain": [
       "<Figure size 450x450 with 1 Axes>"
      ]
     },
     "metadata": {
      "needs_background": "light"
     },
     "output_type": "display_data"
    }
   ],
   "source": [
    "# plotting the original and translated triangle together\n",
    "fig = plt.figure(1, figsize=(5,5), dpi=90)\n",
    "trans_rectangle_shape = Polygon(translation_points)\n",
    "ax = fig.add_subplot(111)\n",
    "trans_rectangle_shape = PolygonPatch(trans_rectangle_shape, facecolor='red')\n",
    "ax.add_patch(trans_rectangle_shape)\n",
    "rectangle_shape = Polygon(rectangle)\n",
    "rectangle_shape = PolygonPatch(rectangle_shape)\n",
    "ax.add_patch(rectangle_shape)\n",
    "ax.set_xlim([-10, 50])\n",
    "ax.set_ylim([-10, 50])\n",
    "ax.set_aspect(1)\n",
    "plt.grid()\n",
    "plt.show()"
   ]
  },
  {
   "cell_type": "markdown",
   "metadata": {
    "deletable": false,
    "editable": false,
    "id": "Y1pVpERd_jyR",
    "nbgrader": {
     "cell_type": "markdown",
     "checksum": "59a8a2aece1b029e7fce3bc51e31861a",
     "grade": false,
     "grade_id": "cell-fa334dd3bc85bfdb",
     "locked": true,
     "schema_version": 3,
     "solution": false
    }
   },
   "source": [
    "In the above figure, you can see the original image(blue color) and composite transformed image(red color).\n",
    "\n",
    "\n",
    "\n",
    "\n",
    "\n",
    "\n",
    "\n",
    "\n",
    "\n",
    "\n",
    "\n"
   ]
  }
 ],
 "metadata": {
  "colab": {
   "collapsed_sections": [
    "_z7sAjOa_jwN",
    "4qxWnpEq_jwV",
    "vu2RBPpR_jw-",
    "vVdtoXpS_jxE",
    "I7RRKEAf_jxa",
    "MpoM2biw_jxh"
   ],
   "provenance": []
  },
  "kernelspec": {
   "display_name": "Python 3 (ipykernel)",
   "language": "python",
   "name": "python3"
  },
  "language_info": {
   "codemirror_mode": {
    "name": "ipython",
    "version": 3
   },
   "file_extension": ".py",
   "mimetype": "text/x-python",
   "name": "python",
   "nbconvert_exporter": "python",
   "pygments_lexer": "ipython3",
   "version": "3.9.7"
  }
 },
 "nbformat": 4,
 "nbformat_minor": 1
}
